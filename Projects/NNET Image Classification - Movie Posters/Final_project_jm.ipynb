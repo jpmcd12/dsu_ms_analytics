{
 "cells": [
  {
   "cell_type": "markdown",
   "metadata": {},
   "source": [
    "Question we are trying to answer is: Is it possible to classify movies by its release decade using features in its poster?\n",
    "We will use pretrained machine learning models to answer that. We will try VGG16, and VGG19 and Resnet50 if time allows. \n",
    "\n",
    "Data cleaning and preparation code credit: https://github.com/timo-boehm/material_blog_posts/blob/master/collect_movie_posters.ipynb"
   ]
  },
  {
   "cell_type": "code",
   "execution_count": 1,
   "metadata": {},
   "outputs": [],
   "source": [
    "import re\n",
    "import numpy as np\n",
    "import pandas as pd"
   ]
  },
  {
   "cell_type": "code",
   "execution_count": 2,
   "metadata": {},
   "outputs": [],
   "source": [
    "#pip install opencv-python"
   ]
  },
  {
   "cell_type": "code",
   "execution_count": 3,
   "metadata": {},
   "outputs": [],
   "source": [
    "def read_and_clean_data(path):\n",
    "    df = pd.read_csv(path, encoding=\"ISO-8859-1\", usecols=[\"imdbId\", \"Title\", \"Genre\", \"Poster\"])\n",
    "    df.set_index([\"imdbId\"], inplace=True)\n",
    "    print(f\"Shape of the original dataset: {df.shape}\")\n",
    "    df.dropna(inplace=True)\n",
    "    print(f\"Shape after dropping rows with missing values: {df.shape}\")\n",
    "    df.drop_duplicates(subset=\"Poster\", keep=False, inplace=True)\n",
    "    print(f\"Shape after dropping rows with potentially misleading poster link: {df.shape}\\n\")\n",
    "    return df"
   ]
  },
  {
   "cell_type": "code",
   "execution_count": 4,
   "metadata": {},
   "outputs": [],
   "source": [
    "def add_year_variable(df):\n",
    "    re_year = re.compile(\"\\((\\d{4})\\)\")\n",
    "    df[\"year\"] = df.Title.map(lambda x: int(re_year.findall(x)[0]) if re_year.findall(x) else None)\n",
    "    print(f\"There are movies between {int(np.min(df.year))} and {int(np.max(df.year))} available in the dataset.\\n\")\n",
    "    return df"
   ]
  },
  {
   "cell_type": "code",
   "execution_count": 5,
   "metadata": {},
   "outputs": [],
   "source": [
    "def create_boolean_genres(df):\n",
    "    df[\"Genre\"] = df.Genre.map(lambda x: x.split(\"|\"))\n",
    "    all_genres = set([item for l in df.Genre for item in l])\n",
    "    print(f\"There are {len(all_genres)} genres in the dataset: {all_genres}\\n\")\n",
    "    for genre in all_genres:\n",
    "        new_var = \"is_\" + re.sub(r'\\W+', '', genre.lower())\n",
    "        df[new_var] = df.Genre.map(lambda x: genre in x)\n",
    "    df.drop([\"Genre\"], axis=1, inplace=True)\n",
    "    return df"
   ]
  },
  {
   "cell_type": "code",
   "execution_count": 6,
   "metadata": {},
   "outputs": [],
   "source": [
    "def extract_genre_data(df, genre=\"Action\"):\n",
    "    filter_var = \"is_\" + re.sub(r'\\W+', '', genre.lower())\n",
    "    df_genre = df.copy().loc[df[filter_var]]\n",
    "    print(f\"{genre} movies in the dataset: {df_genre.shape[0]}\\n\")\n",
    "    return df_genre"
   ]
  },
  {
   "cell_type": "code",
   "execution_count": 7,
   "metadata": {},
   "outputs": [],
   "source": [
    "\n",
    "def select_years(df, min_year, max_year, add_decades=True):\n",
    "    df_range = df.copy().loc[(df.year >= min_year) & (df.year < max_year)]\n",
    "    print(f\"Movies left between {min_year} and {max_year}: {df_range.shape[0]}\")\n",
    "    if add_decades:\n",
    "        df_range[\"decade\"] = df_range.year.apply(lambda x: str(int(x))[2] +\"0s\")\n",
    "        print(f\"Movies per decade in the dataset:\\n{df_range.decade.value_counts()}\\n\")\n",
    "    return df_range"
   ]
  },
  {
   "cell_type": "code",
   "execution_count": 8,
   "metadata": {},
   "outputs": [],
   "source": [
    "def sample_same_number_per_decade(df, use_test_sample=False):\n",
    "    min_number = 40 if use_test_sample else np.min(df.decade.value_counts())\n",
    "    df_sample = df.groupby(\"decade\").apply(lambda x: x.sample(min_number))\n",
    "    print(f\"Sample includes {min_number} movies per decade\")\n",
    "    return df_sample"
   ]
  },
  {
   "cell_type": "code",
   "execution_count": 9,
   "metadata": {},
   "outputs": [
    {
     "name": "stdout",
     "output_type": "stream",
     "text": [
      "Shape of the original dataset: (40108, 3)\n",
      "Shape after dropping rows with missing values: (39263, 3)\n",
      "Shape after dropping rows with potentially misleading poster link: (37850, 3)\n",
      "\n",
      "There are movies between 1874 and 2018 available in the dataset.\n",
      "\n",
      "There are 28 genres in the dataset: {'Sci-Fi', 'Horror', 'Documentary', 'History', 'Thriller', 'Drama', 'Short', 'Comedy', 'War', 'Adventure', 'Sport', 'Biography', 'Romance', 'News', 'Talk-Show', 'Family', 'Action', 'Game-Show', 'Reality-TV', 'Film-Noir', 'Western', 'Musical', 'Animation', 'Fantasy', 'Mystery', 'Adult', 'Music', 'Crime'}\n",
      "\n"
     ]
    }
   ],
   "source": [
    "movie_data = read_and_clean_data(path=\"MovieGenre.csv\")\n",
    "movie_data1 = movie_data.copy()\n",
    "movie_data = add_year_variable(movie_data)\n",
    "movie_data = create_boolean_genres(movie_data)\n"
   ]
  },
  {
   "cell_type": "code",
   "execution_count": 10,
   "metadata": {},
   "outputs": [
    {
     "data": {
      "text/html": [
       "<div>\n",
       "<style scoped>\n",
       "    .dataframe tbody tr th:only-of-type {\n",
       "        vertical-align: middle;\n",
       "    }\n",
       "\n",
       "    .dataframe tbody tr th {\n",
       "        vertical-align: top;\n",
       "    }\n",
       "\n",
       "    .dataframe thead th {\n",
       "        text-align: right;\n",
       "    }\n",
       "</style>\n",
       "<table border=\"1\" class=\"dataframe\">\n",
       "  <thead>\n",
       "    <tr style=\"text-align: right;\">\n",
       "      <th></th>\n",
       "      <th>Title</th>\n",
       "      <th>Genre</th>\n",
       "      <th>Poster</th>\n",
       "    </tr>\n",
       "    <tr>\n",
       "      <th>imdbId</th>\n",
       "      <th></th>\n",
       "      <th></th>\n",
       "      <th></th>\n",
       "    </tr>\n",
       "  </thead>\n",
       "  <tbody>\n",
       "    <tr>\n",
       "      <th>114709</th>\n",
       "      <td>Toy Story (1995)</td>\n",
       "      <td>Animation|Adventure|Comedy</td>\n",
       "      <td>https://images-na.ssl-images-amazon.com/images...</td>\n",
       "    </tr>\n",
       "    <tr>\n",
       "      <th>113497</th>\n",
       "      <td>Jumanji (1995)</td>\n",
       "      <td>Action|Adventure|Family</td>\n",
       "      <td>https://images-na.ssl-images-amazon.com/images...</td>\n",
       "    </tr>\n",
       "    <tr>\n",
       "      <th>113228</th>\n",
       "      <td>Grumpier Old Men (1995)</td>\n",
       "      <td>Comedy|Romance</td>\n",
       "      <td>https://images-na.ssl-images-amazon.com/images...</td>\n",
       "    </tr>\n",
       "    <tr>\n",
       "      <th>114885</th>\n",
       "      <td>Waiting to Exhale (1995)</td>\n",
       "      <td>Comedy|Drama|Romance</td>\n",
       "      <td>https://images-na.ssl-images-amazon.com/images...</td>\n",
       "    </tr>\n",
       "    <tr>\n",
       "      <th>113041</th>\n",
       "      <td>Father of the Bride Part II (1995)</td>\n",
       "      <td>Comedy|Family|Romance</td>\n",
       "      <td>https://images-na.ssl-images-amazon.com/images...</td>\n",
       "    </tr>\n",
       "  </tbody>\n",
       "</table>\n",
       "</div>"
      ],
      "text/plain": [
       "                                     Title                       Genre  \\\n",
       "imdbId                                                                   \n",
       "114709                    Toy Story (1995)  Animation|Adventure|Comedy   \n",
       "113497                      Jumanji (1995)     Action|Adventure|Family   \n",
       "113228             Grumpier Old Men (1995)              Comedy|Romance   \n",
       "114885            Waiting to Exhale (1995)        Comedy|Drama|Romance   \n",
       "113041  Father of the Bride Part II (1995)       Comedy|Family|Romance   \n",
       "\n",
       "                                                   Poster  \n",
       "imdbId                                                     \n",
       "114709  https://images-na.ssl-images-amazon.com/images...  \n",
       "113497  https://images-na.ssl-images-amazon.com/images...  \n",
       "113228  https://images-na.ssl-images-amazon.com/images...  \n",
       "114885  https://images-na.ssl-images-amazon.com/images...  \n",
       "113041  https://images-na.ssl-images-amazon.com/images...  "
      ]
     },
     "execution_count": 10,
     "metadata": {},
     "output_type": "execute_result"
    }
   ],
   "source": [
    "movie_data1.head()"
   ]
  },
  {
   "cell_type": "code",
   "execution_count": 11,
   "metadata": {},
   "outputs": [
    {
     "name": "stdout",
     "output_type": "stream",
     "text": [
      "Sci-Fi movies in the dataset: 1930\n",
      "\n",
      "Horror movies in the dataset: 3861\n",
      "\n",
      "Documentary movies in the dataset: 3414\n",
      "\n",
      "History movies in the dataset: 1340\n",
      "\n",
      "Thriller movies in the dataset: 4644\n",
      "\n",
      "Drama movies in the dataset: 19109\n",
      "\n",
      "Short movies in the dataset: 845\n",
      "\n",
      "Comedy movies in the dataset: 12117\n",
      "\n",
      "War movies in the dataset: 1109\n",
      "\n",
      "Adventure movies in the dataset: 3662\n",
      "\n",
      "Sport movies in the dataset: 663\n",
      "\n",
      "Biography movies in the dataset: 1882\n",
      "\n",
      "Romance movies in the dataset: 5932\n",
      "\n",
      "News movies in the dataset: 78\n",
      "\n",
      "Talk-Show movies in the dataset: 6\n",
      "\n",
      "Family movies in the dataset: 2032\n",
      "\n",
      "Action movies in the dataset: 5133\n",
      "\n",
      "Game-Show movies in the dataset: 1\n",
      "\n",
      "Reality-TV movies in the dataset: 2\n",
      "\n",
      "Film-Noir movies in the dataset: 382\n",
      "\n",
      "Western movies in the dataset: 810\n",
      "\n",
      "Musical movies in the dataset: 814\n",
      "\n",
      "Animation movies in the dataset: 1638\n",
      "\n",
      "Fantasy movies in the dataset: 1934\n",
      "\n",
      "Mystery movies in the dataset: 2300\n",
      "\n",
      "Adult movies in the dataset: 9\n",
      "\n",
      "Music movies in the dataset: 1212\n",
      "\n",
      "Crime movies in the dataset: 5031\n",
      "\n"
     ]
    }
   ],
   "source": [
    "movie_data1[\"Genre\"] = movie_data1.Genre.map(lambda x: x.split(\"|\"))\n",
    "all_genres = set([item for l in movie_data1.Genre for item in l])\n",
    "\n",
    "for i in all_genres:\n",
    "    count = extract_genre_data(movie_data, i)\n",
    "    "
   ]
  },
  {
   "cell_type": "code",
   "execution_count": 12,
   "metadata": {},
   "outputs": [
    {
     "data": {
      "text/html": [
       "<div>\n",
       "<style scoped>\n",
       "    .dataframe tbody tr th:only-of-type {\n",
       "        vertical-align: middle;\n",
       "    }\n",
       "\n",
       "    .dataframe tbody tr th {\n",
       "        vertical-align: top;\n",
       "    }\n",
       "\n",
       "    .dataframe thead th {\n",
       "        text-align: right;\n",
       "    }\n",
       "</style>\n",
       "<table border=\"1\" class=\"dataframe\">\n",
       "  <thead>\n",
       "    <tr style=\"text-align: right;\">\n",
       "      <th></th>\n",
       "      <th>Title</th>\n",
       "      <th>Poster</th>\n",
       "      <th>year</th>\n",
       "      <th>is_scifi</th>\n",
       "      <th>is_horror</th>\n",
       "      <th>is_documentary</th>\n",
       "      <th>is_history</th>\n",
       "      <th>is_thriller</th>\n",
       "      <th>is_drama</th>\n",
       "      <th>is_short</th>\n",
       "      <th>...</th>\n",
       "      <th>is_realitytv</th>\n",
       "      <th>is_filmnoir</th>\n",
       "      <th>is_western</th>\n",
       "      <th>is_musical</th>\n",
       "      <th>is_animation</th>\n",
       "      <th>is_fantasy</th>\n",
       "      <th>is_mystery</th>\n",
       "      <th>is_adult</th>\n",
       "      <th>is_music</th>\n",
       "      <th>is_crime</th>\n",
       "    </tr>\n",
       "    <tr>\n",
       "      <th>imdbId</th>\n",
       "      <th></th>\n",
       "      <th></th>\n",
       "      <th></th>\n",
       "      <th></th>\n",
       "      <th></th>\n",
       "      <th></th>\n",
       "      <th></th>\n",
       "      <th></th>\n",
       "      <th></th>\n",
       "      <th></th>\n",
       "      <th></th>\n",
       "      <th></th>\n",
       "      <th></th>\n",
       "      <th></th>\n",
       "      <th></th>\n",
       "      <th></th>\n",
       "      <th></th>\n",
       "      <th></th>\n",
       "      <th></th>\n",
       "      <th></th>\n",
       "      <th></th>\n",
       "    </tr>\n",
       "  </thead>\n",
       "  <tbody>\n",
       "    <tr>\n",
       "      <th>114709</th>\n",
       "      <td>Toy Story (1995)</td>\n",
       "      <td>https://images-na.ssl-images-amazon.com/images...</td>\n",
       "      <td>1995.0</td>\n",
       "      <td>False</td>\n",
       "      <td>False</td>\n",
       "      <td>False</td>\n",
       "      <td>False</td>\n",
       "      <td>False</td>\n",
       "      <td>False</td>\n",
       "      <td>False</td>\n",
       "      <td>...</td>\n",
       "      <td>False</td>\n",
       "      <td>False</td>\n",
       "      <td>False</td>\n",
       "      <td>False</td>\n",
       "      <td>True</td>\n",
       "      <td>False</td>\n",
       "      <td>False</td>\n",
       "      <td>False</td>\n",
       "      <td>False</td>\n",
       "      <td>False</td>\n",
       "    </tr>\n",
       "    <tr>\n",
       "      <th>113497</th>\n",
       "      <td>Jumanji (1995)</td>\n",
       "      <td>https://images-na.ssl-images-amazon.com/images...</td>\n",
       "      <td>1995.0</td>\n",
       "      <td>False</td>\n",
       "      <td>False</td>\n",
       "      <td>False</td>\n",
       "      <td>False</td>\n",
       "      <td>False</td>\n",
       "      <td>False</td>\n",
       "      <td>False</td>\n",
       "      <td>...</td>\n",
       "      <td>False</td>\n",
       "      <td>False</td>\n",
       "      <td>False</td>\n",
       "      <td>False</td>\n",
       "      <td>False</td>\n",
       "      <td>False</td>\n",
       "      <td>False</td>\n",
       "      <td>False</td>\n",
       "      <td>False</td>\n",
       "      <td>False</td>\n",
       "    </tr>\n",
       "    <tr>\n",
       "      <th>113228</th>\n",
       "      <td>Grumpier Old Men (1995)</td>\n",
       "      <td>https://images-na.ssl-images-amazon.com/images...</td>\n",
       "      <td>1995.0</td>\n",
       "      <td>False</td>\n",
       "      <td>False</td>\n",
       "      <td>False</td>\n",
       "      <td>False</td>\n",
       "      <td>False</td>\n",
       "      <td>False</td>\n",
       "      <td>False</td>\n",
       "      <td>...</td>\n",
       "      <td>False</td>\n",
       "      <td>False</td>\n",
       "      <td>False</td>\n",
       "      <td>False</td>\n",
       "      <td>False</td>\n",
       "      <td>False</td>\n",
       "      <td>False</td>\n",
       "      <td>False</td>\n",
       "      <td>False</td>\n",
       "      <td>False</td>\n",
       "    </tr>\n",
       "    <tr>\n",
       "      <th>114885</th>\n",
       "      <td>Waiting to Exhale (1995)</td>\n",
       "      <td>https://images-na.ssl-images-amazon.com/images...</td>\n",
       "      <td>1995.0</td>\n",
       "      <td>False</td>\n",
       "      <td>False</td>\n",
       "      <td>False</td>\n",
       "      <td>False</td>\n",
       "      <td>False</td>\n",
       "      <td>True</td>\n",
       "      <td>False</td>\n",
       "      <td>...</td>\n",
       "      <td>False</td>\n",
       "      <td>False</td>\n",
       "      <td>False</td>\n",
       "      <td>False</td>\n",
       "      <td>False</td>\n",
       "      <td>False</td>\n",
       "      <td>False</td>\n",
       "      <td>False</td>\n",
       "      <td>False</td>\n",
       "      <td>False</td>\n",
       "    </tr>\n",
       "    <tr>\n",
       "      <th>113041</th>\n",
       "      <td>Father of the Bride Part II (1995)</td>\n",
       "      <td>https://images-na.ssl-images-amazon.com/images...</td>\n",
       "      <td>1995.0</td>\n",
       "      <td>False</td>\n",
       "      <td>False</td>\n",
       "      <td>False</td>\n",
       "      <td>False</td>\n",
       "      <td>False</td>\n",
       "      <td>False</td>\n",
       "      <td>False</td>\n",
       "      <td>...</td>\n",
       "      <td>False</td>\n",
       "      <td>False</td>\n",
       "      <td>False</td>\n",
       "      <td>False</td>\n",
       "      <td>False</td>\n",
       "      <td>False</td>\n",
       "      <td>False</td>\n",
       "      <td>False</td>\n",
       "      <td>False</td>\n",
       "      <td>False</td>\n",
       "    </tr>\n",
       "  </tbody>\n",
       "</table>\n",
       "<p>5 rows × 31 columns</p>\n",
       "</div>"
      ],
      "text/plain": [
       "                                     Title  \\\n",
       "imdbId                                       \n",
       "114709                    Toy Story (1995)   \n",
       "113497                      Jumanji (1995)   \n",
       "113228             Grumpier Old Men (1995)   \n",
       "114885            Waiting to Exhale (1995)   \n",
       "113041  Father of the Bride Part II (1995)   \n",
       "\n",
       "                                                   Poster    year  is_scifi  \\\n",
       "imdbId                                                                        \n",
       "114709  https://images-na.ssl-images-amazon.com/images...  1995.0     False   \n",
       "113497  https://images-na.ssl-images-amazon.com/images...  1995.0     False   \n",
       "113228  https://images-na.ssl-images-amazon.com/images...  1995.0     False   \n",
       "114885  https://images-na.ssl-images-amazon.com/images...  1995.0     False   \n",
       "113041  https://images-na.ssl-images-amazon.com/images...  1995.0     False   \n",
       "\n",
       "        is_horror  is_documentary  is_history  is_thriller  is_drama  \\\n",
       "imdbId                                                                 \n",
       "114709      False           False       False        False     False   \n",
       "113497      False           False       False        False     False   \n",
       "113228      False           False       False        False     False   \n",
       "114885      False           False       False        False      True   \n",
       "113041      False           False       False        False     False   \n",
       "\n",
       "        is_short  ...  is_realitytv  is_filmnoir  is_western  is_musical  \\\n",
       "imdbId            ...                                                      \n",
       "114709     False  ...         False        False       False       False   \n",
       "113497     False  ...         False        False       False       False   \n",
       "113228     False  ...         False        False       False       False   \n",
       "114885     False  ...         False        False       False       False   \n",
       "113041     False  ...         False        False       False       False   \n",
       "\n",
       "        is_animation  is_fantasy  is_mystery  is_adult  is_music  is_crime  \n",
       "imdbId                                                                      \n",
       "114709          True       False       False     False     False     False  \n",
       "113497         False       False       False     False     False     False  \n",
       "113228         False       False       False     False     False     False  \n",
       "114885         False       False       False     False     False     False  \n",
       "113041         False       False       False     False     False     False  \n",
       "\n",
       "[5 rows x 31 columns]"
      ]
     },
     "execution_count": 12,
     "metadata": {},
     "output_type": "execute_result"
    }
   ],
   "source": [
    "movie_data.head()"
   ]
  },
  {
   "cell_type": "code",
   "execution_count": 13,
   "metadata": {},
   "outputs": [
    {
     "name": "stdout",
     "output_type": "stream",
     "text": [
      "Drama movies in the dataset: 19109\n",
      "\n",
      "Movies left between 1980 and 2018: 13666\n",
      "Movies per decade in the dataset:\n",
      "00s    4925\n",
      "10s    4514\n",
      "90s    2705\n",
      "80s    1522\n",
      "Name: decade, dtype: int64\n",
      "\n",
      "Sample includes 1522 movies per decade\n"
     ]
    }
   ],
   "source": [
    "drama_movies = extract_genre_data(movie_data, \"Drama\")\n",
    "drama_movies = select_years(drama_movies, 1980, 2018)\n",
    "drama_sample = sample_same_number_per_decade(drama_movies, use_test_sample=False)\n"
   ]
  },
  {
   "cell_type": "markdown",
   "metadata": {},
   "source": [
    "# Download Image"
   ]
  },
  {
   "cell_type": "code",
   "execution_count": null,
   "metadata": {},
   "outputs": [],
   "source": [
    "import os\n",
    "from sklearn.model_selection import train_test_split\n",
    "\n",
    "import urllib.request\n",
    "from urllib.error import HTTPError\n",
    "\n",
    "import PIL\n",
    "from PIL import Image"
   ]
  },
  {
   "cell_type": "code",
   "execution_count": null,
   "metadata": {},
   "outputs": [],
   "source": [
    "def create_train_and_test_dfs(df, prop_test=.2):\n",
    "    train, test = train_test_split(df, test_size=prop_test, stratify=df.decade)\n",
    "    print(f\"Number of movies in training data: {train.shape[0]}\")\n",
    "    print(f\"Number of movies in testing data:  {test.shape[0]}\\n\")\n",
    "    return {\"train\": train, \"test\": test}"
   ]
  },
  {
   "cell_type": "code",
   "execution_count": null,
   "metadata": {},
   "outputs": [],
   "source": [
    "def create_folder_structure(image_folder=\"movie_posters\", splits=[\"train\", \"test\"], classes=None):\n",
    "    for s in splits:\n",
    "        for c in classes:\n",
    "            folder_name = \"\\\\\".join([image_folder, s, c])\n",
    "            try:\n",
    "                os.makedirs(folder_name)\n",
    "            except FileExistsError:\n",
    "                print(f\"{folder_name} already exists.\")\n",
    "        print(\"\\n\")"
   ]
  },
  {
   "cell_type": "code",
   "execution_count": null,
   "metadata": {},
   "outputs": [],
   "source": [
    "import random\n",
    "\n",
    "def download_posters(dfs, image_folder=\"movie_posters\"):\n",
    "    random.seed(792)\n",
    "    for k, df in dfs.items():\n",
    "        print(f\"Starting with downloading files for {k}...\\n\")\n",
    "        already_downloaded = 0\n",
    "        http_errors = []\n",
    "        for index, movie in df.iterrows():\n",
    "            movie_id = str(index[1])\n",
    "            movie_decade = index[0]\n",
    "            file_name = movie_id + \".jpg\"\n",
    "            file_path = \"\\\\\".join([image_folder, k, movie_decade, file_name])\n",
    "            if os.path.isfile(file_path):\n",
    "                already_downloaded += 1\n",
    "            else:\n",
    "                try:\n",
    "                    urllib.request.urlretrieve(movie.Poster, file_path)       \n",
    "                except HTTPError:\n",
    "                    http_errors.append(movie_id)\n",
    "        print(f\"{len(http_errors)} posters had an HTTPError.\")\n",
    "        print(f\"{already_downloaded} posters were downloaded before.\\n\")\n",
    "        count = 0\n",
    "        for root, dirs, files in os.walk(\"\\\\\".join([image_folder, k])):\n",
    "            if len(dirs) == 0:\n",
    "                count += len(files)\n",
    "                print(f\"Number of pictures in {root}:\\t{len(files)}\")\n",
    "        print(f\"\\nTotal number of pictures available for {k}: {count}\\n\")"
   ]
  },
  {
   "cell_type": "code",
   "execution_count": null,
   "metadata": {},
   "outputs": [],
   "source": [
    "def delete_black_and_white_posters(image_folder=None):\n",
    "    print(f\"\\nChecking for black and white pictures in {image_folder}...\")\n",
    "    count = 0\n",
    "    for root, dirs, files in os.walk(image_folder):\n",
    "        if len(files) > 0:\n",
    "            for f in files:\n",
    "                file_path = \"\\\\\".join([root, f])\n",
    "                if np.asarray(Image.open(file_path)).shape != (268, 182, 3):\n",
    "                    os.remove(file_path)\n",
    "                    count += 1\n",
    "    print(f\"Files without RGB and therefore deleted: {count}\")"
   ]
  },
  {
   "cell_type": "code",
   "execution_count": null,
   "metadata": {},
   "outputs": [],
   "source": [
    "image_folder = \"movie_posters\"\n",
    "dfs = create_train_and_test_dfs(drama_sample)\n",
    "create_folder_structure(image_folder, dfs.keys(), set(drama_sample.decade))\n",
    "download_posters(dfs)\n"
   ]
  },
  {
   "cell_type": "code",
   "execution_count": null,
   "metadata": {},
   "outputs": [],
   "source": [
    "delete_black_and_white_posters(image_folder)"
   ]
  },
  {
   "cell_type": "markdown",
   "metadata": {},
   "source": [
    "# VGG16\n",
    "## Load Pretrained Models"
   ]
  },
  {
   "cell_type": "code",
   "execution_count": 14,
   "metadata": {},
   "outputs": [
    {
     "name": "stderr",
     "output_type": "stream",
     "text": [
      "Using TensorFlow backend.\n"
     ]
    }
   ],
   "source": [
    "from __future__ import print_function\n",
    "import os\n",
    "import numpy as np\n",
    "import matplotlib.pyplot as plt\n",
    "import keras\n",
    "%matplotlib inline\n",
    "from keras.utils import to_categorical\n",
    "from keras.preprocessing.image import ImageDataGenerator, load_img"
   ]
  },
  {
   "cell_type": "code",
   "execution_count": 15,
   "metadata": {},
   "outputs": [
    {
     "name": "stdout",
     "output_type": "stream",
     "text": [
      "WARNING:tensorflow:From C:\\Users\\Joe\\Anaconda3\\lib\\site-packages\\tensorflow\\python\\framework\\op_def_library.py:263: colocate_with (from tensorflow.python.framework.ops) is deprecated and will be removed in a future version.\n",
      "Instructions for updating:\n",
      "Colocations handled automatically by placer.\n",
      "_________________________________________________________________\n",
      "Layer (type)                 Output Shape              Param #   \n",
      "=================================================================\n",
      "input_1 (InputLayer)         (None, 224, 224, 3)       0         \n",
      "_________________________________________________________________\n",
      "block1_conv1 (Conv2D)        (None, 224, 224, 64)      1792      \n",
      "_________________________________________________________________\n",
      "block1_conv2 (Conv2D)        (None, 224, 224, 64)      36928     \n",
      "_________________________________________________________________\n",
      "block1_pool (MaxPooling2D)   (None, 112, 112, 64)      0         \n",
      "_________________________________________________________________\n",
      "block2_conv1 (Conv2D)        (None, 112, 112, 128)     73856     \n",
      "_________________________________________________________________\n",
      "block2_conv2 (Conv2D)        (None, 112, 112, 128)     147584    \n",
      "_________________________________________________________________\n",
      "block2_pool (MaxPooling2D)   (None, 56, 56, 128)       0         \n",
      "_________________________________________________________________\n",
      "block3_conv1 (Conv2D)        (None, 56, 56, 256)       295168    \n",
      "_________________________________________________________________\n",
      "block3_conv2 (Conv2D)        (None, 56, 56, 256)       590080    \n",
      "_________________________________________________________________\n",
      "block3_conv3 (Conv2D)        (None, 56, 56, 256)       590080    \n",
      "_________________________________________________________________\n",
      "block3_pool (MaxPooling2D)   (None, 28, 28, 256)       0         \n",
      "_________________________________________________________________\n",
      "block4_conv1 (Conv2D)        (None, 28, 28, 512)       1180160   \n",
      "_________________________________________________________________\n",
      "block4_conv2 (Conv2D)        (None, 28, 28, 512)       2359808   \n",
      "_________________________________________________________________\n",
      "block4_conv3 (Conv2D)        (None, 28, 28, 512)       2359808   \n",
      "_________________________________________________________________\n",
      "block4_pool (MaxPooling2D)   (None, 14, 14, 512)       0         \n",
      "_________________________________________________________________\n",
      "block5_conv1 (Conv2D)        (None, 14, 14, 512)       2359808   \n",
      "_________________________________________________________________\n",
      "block5_conv2 (Conv2D)        (None, 14, 14, 512)       2359808   \n",
      "_________________________________________________________________\n",
      "block5_conv3 (Conv2D)        (None, 14, 14, 512)       2359808   \n",
      "_________________________________________________________________\n",
      "block5_pool (MaxPooling2D)   (None, 7, 7, 512)         0         \n",
      "=================================================================\n",
      "Total params: 14,714,688\n",
      "Trainable params: 14,714,688\n",
      "Non-trainable params: 0\n",
      "_________________________________________________________________\n"
     ]
    }
   ],
   "source": [
    "from keras.applications.vgg16 import VGG16\n",
    "from keras.preprocessing import image\n",
    "from keras.applications.vgg16 import preprocess_input\n",
    "from keras.utils.vis_utils import plot_model\n",
    "\n",
    "vgg_16 = VGG16(weights='imagenet', \n",
    "               include_top=False, \n",
    "               input_shape = (224, 224, 3)) \n",
    "\n",
    "vgg_16.summary()\n",
    "plot_model(vgg_16, to_file='VGG16.png')"
   ]
  },
  {
   "cell_type": "markdown",
   "metadata": {},
   "source": [
    "### Preparing images to load into pretrained models\n",
    "Code credit: https://www.learnopencv.com/keras-tutorial-transfer-learning-using-pre-trained-models/"
   ]
  },
  {
   "cell_type": "code",
   "execution_count": 16,
   "metadata": {},
   "outputs": [],
   "source": [
    "#path to train and test datasets\n",
    "train_path = 'movie_posters/train'\n",
    "test_path = 'movie_posters/test'\n",
    "\n",
    "nTrain = sum([len(files) for r, d, files in os.walk(train_path)])\n",
    "nTest = sum([len(files) for r, d, files in os.walk(test_path)])\n",
    "n_class = 4   #4 decades"
   ]
  },
  {
   "cell_type": "code",
   "execution_count": 17,
   "metadata": {},
   "outputs": [
    {
     "name": "stdout",
     "output_type": "stream",
     "text": [
      "Found 4644 images belonging to 4 classes.\n",
      "Found 1162 images belonging to 4 classes.\n"
     ]
    }
   ],
   "source": [
    "#extract features from pretrained model\n",
    "\n",
    "## load image\n",
    "datagen = ImageDataGenerator(rescale=1./255)\n",
    "batch_size = 20\n",
    " \n",
    "train_features = np.zeros(shape=(nTrain, 7, 7, 512))  #The last conv layer has output format of (7,7,512)\n",
    "train_labels = np.zeros(shape=(nTrain, n_class))  \n",
    "\n",
    "#generate batches of images and labels\n",
    "train_generator = datagen.flow_from_directory(\n",
    "    train_path,\n",
    "    target_size=(224, 224),\n",
    "    batch_size=batch_size,\n",
    "    class_mode='categorical',\n",
    "    shuffle=True)\n",
    "\n",
    "#repeat same for test dataset\n",
    "test_features = np.zeros(shape=(nTest, 7, 7, 512))\n",
    "test_labels = np.zeros(shape=(nTest,n_class))\n",
    "\n",
    "test_generator = datagen.flow_from_directory(\n",
    "    test_path,\n",
    "    target_size=(224, 224),\n",
    "    batch_size=batch_size,\n",
    "    class_mode='categorical',\n",
    "    shuffle=False)"
   ]
  },
  {
   "cell_type": "markdown",
   "metadata": {},
   "source": [
    "# Passing training features and labels through these models\n",
    "Code credit: https://www.learnopencv.com/keras-tutorial-transfer-learning-using-pre-trained-models/\n",
    "## VGG16 "
   ]
  },
  {
   "cell_type": "code",
   "execution_count": 25,
   "metadata": {},
   "outputs": [
    {
     "ename": "ValueError",
     "evalue": "could not broadcast input array from shape (50,7,7,512) into shape (20,7,7,512)",
     "output_type": "error",
     "traceback": [
      "\u001b[1;31m---------------------------------------------------------------------------\u001b[0m",
      "\u001b[1;31mValueError\u001b[0m                                Traceback (most recent call last)",
      "\u001b[1;32m<ipython-input-25-eeaff062841a>\u001b[0m in \u001b[0;36m<module>\u001b[1;34m\u001b[0m\n\u001b[0;32m      4\u001b[0m \u001b[1;32mfor\u001b[0m \u001b[0minputs_batch\u001b[0m\u001b[1;33m,\u001b[0m \u001b[0mlabels_batch\u001b[0m \u001b[1;32min\u001b[0m \u001b[0mtrain_generator\u001b[0m\u001b[1;33m:\u001b[0m\u001b[1;33m\u001b[0m\u001b[0m\n\u001b[0;32m      5\u001b[0m     \u001b[0mfeatures_batch\u001b[0m \u001b[1;33m=\u001b[0m \u001b[0mvgg_16\u001b[0m\u001b[1;33m.\u001b[0m\u001b[0mpredict\u001b[0m\u001b[1;33m(\u001b[0m\u001b[0minputs_batch\u001b[0m\u001b[1;33m)\u001b[0m\u001b[1;33m\u001b[0m\u001b[0m\n\u001b[1;32m----> 6\u001b[1;33m     \u001b[0mtrain_features\u001b[0m\u001b[1;33m[\u001b[0m\u001b[0mi\u001b[0m \u001b[1;33m*\u001b[0m \u001b[0mbatch_size\u001b[0m \u001b[1;33m:\u001b[0m \u001b[1;33m(\u001b[0m\u001b[0mi\u001b[0m \u001b[1;33m+\u001b[0m \u001b[1;36m1\u001b[0m\u001b[1;33m)\u001b[0m \u001b[1;33m*\u001b[0m \u001b[0mbatch_size\u001b[0m\u001b[1;33m]\u001b[0m \u001b[1;33m=\u001b[0m \u001b[0mfeatures_batch\u001b[0m\u001b[1;33m\u001b[0m\u001b[0m\n\u001b[0m\u001b[0;32m      7\u001b[0m     \u001b[0mtrain_labels\u001b[0m\u001b[1;33m[\u001b[0m\u001b[0mi\u001b[0m \u001b[1;33m*\u001b[0m \u001b[0mbatch_size\u001b[0m \u001b[1;33m:\u001b[0m \u001b[1;33m(\u001b[0m\u001b[0mi\u001b[0m \u001b[1;33m+\u001b[0m \u001b[1;36m1\u001b[0m\u001b[1;33m)\u001b[0m \u001b[1;33m*\u001b[0m \u001b[0mbatch_size\u001b[0m\u001b[1;33m]\u001b[0m \u001b[1;33m=\u001b[0m \u001b[0mlabels_batch\u001b[0m\u001b[1;33m\u001b[0m\u001b[0m\n\u001b[0;32m      8\u001b[0m     \u001b[0mi\u001b[0m \u001b[1;33m+=\u001b[0m \u001b[1;36m1\u001b[0m\u001b[1;33m\u001b[0m\u001b[0m\n",
      "\u001b[1;31mValueError\u001b[0m: could not broadcast input array from shape (50,7,7,512) into shape (20,7,7,512)"
     ]
    }
   ],
   "source": [
    "# VGG16\n",
    "#pass image through the VGG16 network\n",
    "i = 0\n",
    "for inputs_batch, labels_batch in train_generator:\n",
    "    features_batch = vgg_16.predict(inputs_batch)\n",
    "    train_features[i * batch_size : (i + 1) * batch_size] = features_batch\n",
    "    train_labels[i * batch_size : (i + 1) * batch_size] = labels_batch\n",
    "    i += 1\n",
    "    if i * batch_size >= nTrain:\n",
    "        break\n",
    "\n",
    "train_features2 = train_features\n",
    "train_features = np.reshape(train_features, (nTrain, 7 * 7 * 512))\n",
    "\n",
    "\n",
    "#repeat same for test dataset\n",
    "i = 0\n",
    "for inputs_batch, labels_batch in test_generator:\n",
    "    features_batch = vgg_16.predict(inputs_batch)\n",
    "    test_features[i * batch_size : (i + 1) * batch_size] = features_batch\n",
    "    test_labels[i * batch_size : (i + 1) * batch_size] = labels_batch\n",
    "    i += 1\n",
    "    if i * batch_size >= nTest:\n",
    "        break\n",
    "test_features2 = test_features\n",
    "test_features = np.reshape(test_features, (nTest, 7 * 7 * 512))"
   ]
  },
  {
   "cell_type": "code",
   "execution_count": 19,
   "metadata": {},
   "outputs": [
    {
     "name": "stdout",
     "output_type": "stream",
     "text": [
      "WARNING:tensorflow:From C:\\Users\\Joe\\Anaconda3\\lib\\site-packages\\keras\\backend\\tensorflow_backend.py:3445: calling dropout (from tensorflow.python.ops.nn_ops) with keep_prob is deprecated and will be removed in a future version.\n",
      "Instructions for updating:\n",
      "Please use `rate` instead of `keep_prob`. Rate should be set to `rate = 1 - keep_prob`.\n",
      "WARNING:tensorflow:From C:\\Users\\Joe\\Anaconda3\\lib\\site-packages\\tensorflow\\python\\ops\\math_ops.py:3066: to_int32 (from tensorflow.python.ops.math_ops) is deprecated and will be removed in a future version.\n",
      "Instructions for updating:\n",
      "Use tf.cast instead.\n",
      "Train on 4644 samples, validate on 1162 samples\n",
      "Epoch 1/20\n",
      "4644/4644 [==============================] - 4s 855us/step - loss: 1.4457 - acc: 0.3159 - val_loss: 1.3153 - val_acc: 0.3520\n",
      "Epoch 2/20\n",
      "4644/4644 [==============================] - 3s 644us/step - loss: 1.2879 - acc: 0.3997 - val_loss: 1.2724 - val_acc: 0.4062\n",
      "Epoch 3/20\n",
      "4644/4644 [==============================] - 3s 651us/step - loss: 1.2450 - acc: 0.4283 - val_loss: 1.2760 - val_acc: 0.4105\n",
      "Epoch 4/20\n",
      "4644/4644 [==============================] - 3s 650us/step - loss: 1.1711 - acc: 0.4789 - val_loss: 1.2844 - val_acc: 0.4200\n",
      "Epoch 5/20\n",
      "4644/4644 [==============================] - 3s 649us/step - loss: 1.0967 - acc: 0.5159 - val_loss: 1.3287 - val_acc: 0.3864\n",
      "Epoch 6/20\n",
      "4644/4644 [==============================] - 3s 649us/step - loss: 1.0385 - acc: 0.5521 - val_loss: 1.4342 - val_acc: 0.3623\n",
      "Epoch 7/20\n",
      "4644/4644 [==============================] - 3s 647us/step - loss: 0.9645 - acc: 0.5876 - val_loss: 1.4709 - val_acc: 0.3735\n",
      "Epoch 8/20\n",
      "4644/4644 [==============================] - 3s 655us/step - loss: 0.9074 - acc: 0.6316 - val_loss: 1.3754 - val_acc: 0.4251\n",
      "Epoch 9/20\n",
      "4644/4644 [==============================] - 3s 638us/step - loss: 0.8317 - acc: 0.6606 - val_loss: 1.4138 - val_acc: 0.4329\n",
      "Epoch 10/20\n",
      "4644/4644 [==============================] - 3s 635us/step - loss: 0.7609 - acc: 0.6923 - val_loss: 1.3894 - val_acc: 0.4415\n",
      "Epoch 11/20\n",
      "4644/4644 [==============================] - 3s 640us/step - loss: 0.6957 - acc: 0.7186 - val_loss: 1.3865 - val_acc: 0.4320\n",
      "Epoch 12/20\n",
      "4644/4644 [==============================] - 3s 633us/step - loss: 0.6506 - acc: 0.7371 - val_loss: 1.4558 - val_acc: 0.4251\n",
      "Epoch 13/20\n",
      "4644/4644 [==============================] - 3s 644us/step - loss: 0.5873 - acc: 0.7726 - val_loss: 1.4616 - val_acc: 0.4415\n",
      "Epoch 14/20\n",
      "4644/4644 [==============================] - 3s 638us/step - loss: 0.5305 - acc: 0.8004 - val_loss: 1.4925 - val_acc: 0.4355\n",
      "Epoch 15/20\n",
      "4644/4644 [==============================] - 3s 647us/step - loss: 0.4851 - acc: 0.8155 - val_loss: 1.6610 - val_acc: 0.4217\n",
      "Epoch 16/20\n",
      "4644/4644 [==============================] - 3s 663us/step - loss: 0.4365 - acc: 0.8346 - val_loss: 1.5808 - val_acc: 0.4398\n",
      "Epoch 17/20\n",
      "4644/4644 [==============================] - 3s 649us/step - loss: 0.4042 - acc: 0.8510 - val_loss: 1.7261 - val_acc: 0.4406\n",
      "Epoch 18/20\n",
      "4644/4644 [==============================] - 3s 642us/step - loss: 0.3689 - acc: 0.8695 - val_loss: 1.6867 - val_acc: 0.4346\n",
      "Epoch 19/20\n",
      "4644/4644 [==============================] - 3s 640us/step - loss: 0.3399 - acc: 0.8773 - val_loss: 1.8934 - val_acc: 0.4182\n",
      "Epoch 20/20\n",
      "4644/4644 [==============================] - 3s 653us/step - loss: 0.2972 - acc: 0.8932 - val_loss: 1.9067 - val_acc: 0.4200\n"
     ]
    }
   ],
   "source": [
    "# VGG16\n",
    "# create simple feedforward network with a softmax output layer\n",
    "from keras import models\n",
    "from keras import layers\n",
    "from keras import optimizers\n",
    " \n",
    "model = models.Sequential()\n",
    "model.add(layers.Dense(256, activation='relu', input_dim=7 * 7 * 512))\n",
    "model.add(layers.Dropout(0.5))\n",
    "model.add(layers.Dense(n_class, activation='softmax'))\n",
    "#model.summary()\n",
    "\n",
    "#train model\n",
    "model.compile(optimizer=optimizers.RMSprop(lr=2e-4),\n",
    "              loss='categorical_crossentropy',\n",
    "              metrics=['acc'])\n",
    " \n",
    "history = model.fit(train_features,\n",
    "                    train_labels,\n",
    "                    epochs=20,\n",
    "                    batch_size=batch_size,\n",
    "                    validation_data=(test_features,test_labels))"
   ]
  },
  {
   "cell_type": "markdown",
   "metadata": {},
   "source": [
    "The model produced low accuracy ~42%. \n",
    "Next step is to fine tuning VGG16 to produce better accuracy."
   ]
  },
  {
   "cell_type": "code",
   "execution_count": 18,
   "metadata": {},
   "outputs": [
    {
     "name": "stdout",
     "output_type": "stream",
     "text": [
      "<keras.engine.input_layer.InputLayer object at 0x00000145EBADF7B8> False\n",
      "<keras.layers.convolutional.Conv2D object at 0x00000145EBADFE48> False\n",
      "<keras.layers.convolutional.Conv2D object at 0x00000145EBADFEF0> False\n",
      "<keras.layers.pooling.MaxPooling2D object at 0x00000145EBB18E10> False\n",
      "<keras.layers.convolutional.Conv2D object at 0x00000145EBB18CF8> False\n",
      "<keras.layers.convolutional.Conv2D object at 0x00000145EBB48668> False\n",
      "<keras.layers.pooling.MaxPooling2D object at 0x00000145EBB64B70> False\n",
      "<keras.layers.convolutional.Conv2D object at 0x00000145EBB64898> False\n",
      "<keras.layers.convolutional.Conv2D object at 0x00000145EBB9C828> False\n",
      "<keras.layers.convolutional.Conv2D object at 0x00000145EBBAFB00> False\n",
      "<keras.layers.pooling.MaxPooling2D object at 0x00000145EBBE4B70> False\n",
      "<keras.layers.convolutional.Conv2D object at 0x00000145EBBE4CC0> False\n",
      "<keras.layers.convolutional.Conv2D object at 0x00000145EBBFD2E8> False\n",
      "<keras.layers.convolutional.Conv2D object at 0x00000145EBC2EFD0> True\n",
      "<keras.layers.pooling.MaxPooling2D object at 0x00000145EBC4AEB8> True\n",
      "<keras.layers.convolutional.Conv2D object at 0x00000145EBC4AEF0> True\n",
      "<keras.layers.convolutional.Conv2D object at 0x00000145EBC7C7B8> True\n",
      "<keras.layers.convolutional.Conv2D object at 0x00000145EBCB1A20> True\n",
      "<keras.layers.pooling.MaxPooling2D object at 0x00000145EBCC5C18> True\n"
     ]
    }
   ],
   "source": [
    "# VGG16\n",
    "# Source Code: https://www.learnopencv.com/keras-tutorial-fine-tuning-using-pre-trained-models/\n",
    "\n",
    "# Freeze the layers except the last 4 layers..  ## Joe, you can try freezing more or less layers to see it helps\n",
    "for layer in vgg_16.layers[:-6]:\n",
    "    layer.trainable = False\n",
    " \n",
    "# Check the trainable status of the individual layers\n",
    "for layer in vgg_16.layers:\n",
    "    print(layer, layer.trainable)"
   ]
  },
  {
   "cell_type": "code",
   "execution_count": 19,
   "metadata": {},
   "outputs": [
    {
     "name": "stdout",
     "output_type": "stream",
     "text": [
      "WARNING:tensorflow:From C:\\Users\\Joe\\Anaconda3\\lib\\site-packages\\keras\\backend\\tensorflow_backend.py:3445: calling dropout (from tensorflow.python.ops.nn_ops) with keep_prob is deprecated and will be removed in a future version.\n",
      "Instructions for updating:\n",
      "Please use `rate` instead of `keep_prob`. Rate should be set to `rate = 1 - keep_prob`.\n",
      "_________________________________________________________________\n",
      "Layer (type)                 Output Shape              Param #   \n",
      "=================================================================\n",
      "vgg16 (Model)                (None, 7, 7, 512)         14714688  \n",
      "_________________________________________________________________\n",
      "flatten_1 (Flatten)          (None, 25088)             0         \n",
      "_________________________________________________________________\n",
      "dense_1 (Dense)              (None, 1024)              25691136  \n",
      "_________________________________________________________________\n",
      "dropout_1 (Dropout)          (None, 1024)              0         \n",
      "_________________________________________________________________\n",
      "dense_2 (Dense)              (None, 4)                 4100      \n",
      "=================================================================\n",
      "Total params: 40,409,924\n",
      "Trainable params: 35,134,468\n",
      "Non-trainable params: 5,275,456\n",
      "_________________________________________________________________\n"
     ]
    }
   ],
   "source": [
    "# VGG16 -fine tuning\n",
    "from keras import models\n",
    "from keras import layers\n",
    "from keras import optimizers\n",
    " \n",
    "# Create the model\n",
    "model2 = models.Sequential()\n",
    " \n",
    "# Add the VGG16 convolutional base model\n",
    "model2.add(vgg_16)\n",
    " \n",
    "# Add new layers\n",
    "model2.add(layers.Flatten())\n",
    "model2.add(layers.Dense(1024, activation='relu'))\n",
    "model2.add(layers.Dropout(0.75))\n",
    "model2.add(layers.Dense(n_class, activation='softmax'))\n",
    " \n",
    "# Show a summary of the model. Check the number of trainable parameters\n",
    "model2.summary()"
   ]
  },
  {
   "cell_type": "code",
   "execution_count": 20,
   "metadata": {},
   "outputs": [
    {
     "name": "stdout",
     "output_type": "stream",
     "text": [
      "Found 4644 images belonging to 4 classes.\n",
      "Found 1162 images belonging to 4 classes.\n"
     ]
    }
   ],
   "source": [
    "# VGG16 -fine tuning\n",
    "# Setup the data generators\n",
    "train_datagen = ImageDataGenerator(\n",
    "      rescale=1./255,\n",
    "      rotation_range=20,\n",
    "      width_shift_range=0.2,\n",
    "      height_shift_range=0.2,\n",
    "      horizontal_flip=True,\n",
    "      fill_mode='nearest')\n",
    " \n",
    "test_datagen = ImageDataGenerator(rescale=1./255)\n",
    " \n",
    "#batch sizes of train and test\n",
    "train_batchsize = 50\n",
    "test_batchsize = 10\n",
    " \n",
    "train_generator = train_datagen.flow_from_directory(\n",
    "        train_path,\n",
    "        target_size=(224, 224),\n",
    "        batch_size=train_batchsize,\n",
    "        class_mode='categorical')\n",
    " \n",
    "test_generator = test_datagen.flow_from_directory(\n",
    "        test_path,\n",
    "        target_size=(224, 224),\n",
    "        batch_size=test_batchsize,\n",
    "        class_mode='categorical',\n",
    "        shuffle=False)"
   ]
  },
  {
   "cell_type": "code",
   "execution_count": 21,
   "metadata": {
    "scrolled": true
   },
   "outputs": [
    {
     "name": "stdout",
     "output_type": "stream",
     "text": [
      "WARNING:tensorflow:From C:\\Users\\Joe\\Anaconda3\\lib\\site-packages\\tensorflow\\python\\ops\\math_ops.py:3066: to_int32 (from tensorflow.python.ops.math_ops) is deprecated and will be removed in a future version.\n",
      "Instructions for updating:\n",
      "Use tf.cast instead.\n",
      "Epoch 1/20\n",
      "93/92 [==============================] - 58s 622ms/step - loss: 1.7028 - acc: 0.2602 - val_loss: 1.3575 - val_acc: 0.3417\n",
      "Epoch 2/20\n",
      "93/92 [==============================] - 50s 537ms/step - loss: 1.4729 - acc: 0.2922 - val_loss: 1.3249 - val_acc: 0.3683\n",
      "Epoch 3/20\n",
      "93/92 [==============================] - 50s 534ms/step - loss: 1.3847 - acc: 0.3277 - val_loss: 1.3049 - val_acc: 0.3761\n",
      "Epoch 4/20\n",
      "93/92 [==============================] - 50s 534ms/step - loss: 1.3521 - acc: 0.3542 - val_loss: 1.2965 - val_acc: 0.3873\n",
      "Epoch 5/20\n",
      "93/92 [==============================] - 49s 532ms/step - loss: 1.3334 - acc: 0.3624 - val_loss: 1.2912 - val_acc: 0.4114\n",
      "Epoch 6/20\n",
      "93/92 [==============================] - 50s 539ms/step - loss: 1.3109 - acc: 0.3813 - val_loss: 1.2739 - val_acc: 0.3985\n",
      "Epoch 7/20\n",
      "93/92 [==============================] - 50s 538ms/step - loss: 1.2876 - acc: 0.3913 - val_loss: 1.2624 - val_acc: 0.4019\n",
      "Epoch 8/20\n",
      "93/92 [==============================] - 50s 539ms/step - loss: 1.2662 - acc: 0.4154 - val_loss: 1.2598 - val_acc: 0.4053\n",
      "Epoch 9/20\n",
      "93/92 [==============================] - 50s 539ms/step - loss: 1.2590 - acc: 0.4183 - val_loss: 1.2570 - val_acc: 0.4002\n",
      "Epoch 10/20\n",
      "93/92 [==============================] - 50s 536ms/step - loss: 1.2422 - acc: 0.4259 - val_loss: 1.2339 - val_acc: 0.4346\n",
      "Epoch 11/20\n",
      "93/92 [==============================] - 50s 533ms/step - loss: 1.2289 - acc: 0.4297 - val_loss: 1.2360 - val_acc: 0.4191\n",
      "Epoch 12/20\n",
      "93/92 [==============================] - 50s 538ms/step - loss: 1.2068 - acc: 0.4468 - val_loss: 1.2339 - val_acc: 0.4329\n",
      "Epoch 13/20\n",
      "93/92 [==============================] - 50s 535ms/step - loss: 1.1999 - acc: 0.4554 - val_loss: 1.2235 - val_acc: 0.4320\n",
      "Epoch 14/20\n",
      "93/92 [==============================] - 50s 538ms/step - loss: 1.1908 - acc: 0.4610 - val_loss: 1.2233 - val_acc: 0.4389\n",
      "Epoch 15/20\n",
      "93/92 [==============================] - 50s 534ms/step - loss: 1.1772 - acc: 0.4638 - val_loss: 1.2241 - val_acc: 0.4432\n",
      "Epoch 16/20\n",
      "93/92 [==============================] - 50s 538ms/step - loss: 1.1586 - acc: 0.4922 - val_loss: 1.2167 - val_acc: 0.4449\n",
      "Epoch 17/20\n",
      "93/92 [==============================] - 50s 537ms/step - loss: 1.1620 - acc: 0.4781 - val_loss: 1.2029 - val_acc: 0.4509\n",
      "Epoch 18/20\n",
      "93/92 [==============================] - 50s 536ms/step - loss: 1.1470 - acc: 0.4820 - val_loss: 1.1936 - val_acc: 0.4475\n",
      "Epoch 19/20\n",
      "93/92 [==============================] - 50s 534ms/step - loss: 1.1206 - acc: 0.4975 - val_loss: 1.2047 - val_acc: 0.4535\n",
      "Epoch 20/20\n",
      "93/92 [==============================] - 50s 535ms/step - loss: 1.0989 - acc: 0.5145 - val_loss: 1.2304 - val_acc: 0.4441\n"
     ]
    }
   ],
   "source": [
    "# VGG16 -fine tuning\n",
    "\n",
    "# Compile the model\n",
    "model2.compile(loss='categorical_crossentropy',\n",
    "              optimizer=optimizers.RMSprop(lr=1e-5),\n",
    "              metrics=['acc'])\n",
    "# Train the model\n",
    "history = model2.fit_generator(train_generator,\n",
    "                               steps_per_epoch=train_generator.samples/train_generator.batch_size ,\n",
    "                               epochs=20,\n",
    "                               validation_data=test_generator,\n",
    "                               validation_steps=test_generator.samples/test_generator.batch_size,\n",
    "                               verbose=1)\n",
    " \n",
    "# Save the model\n",
    "#history.save('movie_decade.h5')"
   ]
  },
  {
   "cell_type": "code",
   "execution_count": 22,
   "metadata": {},
   "outputs": [],
   "source": [
    "model2.save('movie_decade7.h5')"
   ]
  },
  {
   "cell_type": "code",
   "execution_count": 23,
   "metadata": {},
   "outputs": [
    {
     "data": {
      "image/png": "[encoded data removed]",
      "text/plain": [
       "<Figure size 432x288 with 1 Axes>"
      ]
     },
     "metadata": {
      "needs_background": "light"
     },
     "output_type": "display_data"
    },
    {
     "data": {
      "image/png": "[encoded data removed]",
      "text/plain": [
       "<Figure size 432x288 with 1 Axes>"
      ]
     },
     "metadata": {
      "needs_background": "light"
     },
     "output_type": "display_data"
    }
   ],
   "source": [
    "acc = history.history['acc']\n",
    "val_acc = history.history['val_acc']\n",
    "loss = history.history['loss']\n",
    "val_loss = history.history['val_loss']\n",
    " \n",
    "epochs = range(len(acc))\n",
    " \n",
    "plt.plot(epochs, acc, 'b', label='Training acc')\n",
    "plt.plot(epochs, val_acc, 'r', label='Validation acc')\n",
    "plt.title('Accuracy with 6 trainable layers lr = 1e-5')\n",
    "plt.legend()\n",
    "\n",
    "plt.savefig(\"acc2.png\")\n",
    "plt.figure()\n",
    " \n",
    "plt.plot(epochs, loss, 'b', label='Training loss')\n",
    "plt.plot(epochs, val_loss, 'r', label='Validation loss')\n",
    "plt.title('Loss with 6 trainable layers lr= 1e-5')\n",
    "plt.legend()\n",
    "\n",
    "plt.savefig(\"loss2.png\")\n",
    "plt.show()\n"
   ]
  },
  {
   "cell_type": "code",
   "execution_count": 24,
   "metadata": {},
   "outputs": [
    {
     "ename": "NameError",
     "evalue": "name 'train_features2' is not defined",
     "output_type": "error",
     "traceback": [
      "\u001b[1;31m---------------------------------------------------------------------------\u001b[0m",
      "\u001b[1;31mNameError\u001b[0m                                 Traceback (most recent call last)",
      "\u001b[1;32m<ipython-input-24-b3b77ec07595>\u001b[0m in \u001b[0;36m<module>\u001b[1;34m\u001b[0m\n\u001b[0;32m     11\u001b[0m \u001b[0midx2label\u001b[0m \u001b[1;33m=\u001b[0m \u001b[0mdict\u001b[0m\u001b[1;33m(\u001b[0m\u001b[1;33m(\u001b[0m\u001b[0mv\u001b[0m\u001b[1;33m,\u001b[0m\u001b[0mk\u001b[0m\u001b[1;33m)\u001b[0m \u001b[1;32mfor\u001b[0m \u001b[0mk\u001b[0m\u001b[1;33m,\u001b[0m\u001b[0mv\u001b[0m \u001b[1;32min\u001b[0m \u001b[0mlabel2index\u001b[0m\u001b[1;33m.\u001b[0m\u001b[0mitems\u001b[0m\u001b[1;33m(\u001b[0m\u001b[1;33m)\u001b[0m\u001b[1;33m)\u001b[0m\u001b[1;33m\u001b[0m\u001b[0m\n\u001b[0;32m     12\u001b[0m \u001b[1;33m\u001b[0m\u001b[0m\n\u001b[1;32m---> 13\u001b[1;33m \u001b[0mpredictions\u001b[0m \u001b[1;33m=\u001b[0m \u001b[0mmodel2\u001b[0m\u001b[1;33m.\u001b[0m\u001b[0mpredict_classes\u001b[0m\u001b[1;33m(\u001b[0m\u001b[0mtrain_features2\u001b[0m\u001b[1;33m)\u001b[0m\u001b[1;33m\u001b[0m\u001b[0m\n\u001b[0m\u001b[0;32m     14\u001b[0m \u001b[0mprob\u001b[0m \u001b[1;33m=\u001b[0m \u001b[0mmodel2\u001b[0m\u001b[1;33m.\u001b[0m\u001b[0mpredict\u001b[0m\u001b[1;33m(\u001b[0m\u001b[0mtest_features2\u001b[0m\u001b[1;33m)\u001b[0m\u001b[1;33m\u001b[0m\u001b[0m\n\u001b[0;32m     15\u001b[0m \u001b[1;33m\u001b[0m\u001b[0m\n",
      "\u001b[1;31mNameError\u001b[0m: name 'train_features2' is not defined"
     ]
    }
   ],
   "source": [
    "# VGG16 -fine tuning\n",
    "\n",
    "#check performance\n",
    "fnames = test_generator.filenames\n",
    " \n",
    "ground_truth = test_generator.classes\n",
    " \n",
    "label2index = test_generator.class_indices\n",
    " \n",
    "# Getting the mapping from class index to class label\n",
    "idx2label = dict((v,k) for k,v in label2index.items())\n",
    " \n",
    "predictions = model2.predict_classes(train_features2)\n",
    "prob = model2.predict(test_features2)\n",
    " \n",
    "errors = np.where(predictions != ground_truth)[0]\n",
    "print(\"No of errors = {}/{}\".format(len(errors),nTest))\n",
    "\n",
    "acc = movie.movie['acc']\n",
    "test_acc = movie.movie['val_acc']\n",
    "loss = movie.movie['loss']\n",
    "test_loss = movie.movie['val_loss']\n",
    " \n",
    "epochs = range(len(acc))\n",
    " \n",
    "plt.plot(epochs, acc, 'b', label='Training acc')\n",
    "plt.plot(epochs, test_acc, 'r', label='Test acc')\n",
    "plt.title('Training and test accuracy')\n",
    "plt.legend()\n",
    " \n",
    "plt.figure()\n",
    " \n",
    "plt.plot(epochs, loss, 'b', label='Training loss')\n",
    "plt.plot(epochs, test_loss, 'r', label='Test loss')\n",
    "plt.title('Training and test loss')\n",
    "plt.legend()\n",
    " \n",
    "plt.show()"
   ]
  },
  {
   "cell_type": "code",
   "execution_count": 38,
   "metadata": {},
   "outputs": [
    {
     "ename": "NameError",
     "evalue": "name 'errors' is not defined",
     "output_type": "error",
     "traceback": [
      "\u001b[1;31m---------------------------------------------------------------------------\u001b[0m",
      "\u001b[1;31mNameError\u001b[0m                                 Traceback (most recent call last)",
      "\u001b[1;32m<ipython-input-38-c1b223c5c16e>\u001b[0m in \u001b[0;36m<module>\u001b[1;34m\u001b[0m\n\u001b[0;32m      2\u001b[0m \u001b[1;33m\u001b[0m\u001b[0m\n\u001b[0;32m      3\u001b[0m \u001b[1;31m# Check images that were misclassified\u001b[0m\u001b[1;33m\u001b[0m\u001b[1;33m\u001b[0m\u001b[0m\n\u001b[1;32m----> 4\u001b[1;33m \u001b[1;32mfor\u001b[0m \u001b[0mi\u001b[0m \u001b[1;32min\u001b[0m \u001b[0mrange\u001b[0m\u001b[1;33m(\u001b[0m\u001b[0mlen\u001b[0m\u001b[1;33m(\u001b[0m\u001b[0merrors\u001b[0m\u001b[1;33m)\u001b[0m\u001b[1;33m)\u001b[0m\u001b[1;33m:\u001b[0m\u001b[1;33m\u001b[0m\u001b[0m\n\u001b[0m\u001b[0;32m      5\u001b[0m     \u001b[0mpred_class\u001b[0m \u001b[1;33m=\u001b[0m \u001b[0mnp\u001b[0m\u001b[1;33m.\u001b[0m\u001b[0margmax\u001b[0m\u001b[1;33m(\u001b[0m\u001b[0mprob\u001b[0m\u001b[1;33m[\u001b[0m\u001b[0merrors\u001b[0m\u001b[1;33m[\u001b[0m\u001b[0mi\u001b[0m\u001b[1;33m]\u001b[0m\u001b[1;33m]\u001b[0m\u001b[1;33m)\u001b[0m\u001b[1;33m\u001b[0m\u001b[0m\n\u001b[0;32m      6\u001b[0m     \u001b[0mpred_label\u001b[0m \u001b[1;33m=\u001b[0m \u001b[0midx2label\u001b[0m\u001b[1;33m[\u001b[0m\u001b[0mpred_class\u001b[0m\u001b[1;33m]\u001b[0m\u001b[1;33m\u001b[0m\u001b[0m\n",
      "\u001b[1;31mNameError\u001b[0m: name 'errors' is not defined"
     ]
    }
   ],
   "source": [
    "# VGG16 -fine tuning\n",
    "\n",
    "# Check images that were misclassified\n",
    "for i in range(len(errors)):\n",
    "    pred_class = np.argmax(prob[errors[i]])\n",
    "    pred_label = idx2label[pred_class]\n",
    "     \n",
    "    print('Original label:{}, Prediction :{}, confidence : {:.3f}'.format(\n",
    "        fnames[errors[i]].split('/')[0],\n",
    "        pred_label,\n",
    "        prob[errors[i]][pred_class]))\n",
    "     \n",
    "    original = load_img('{}/{}'.format(test_path,fnames[errors[i]]))\n",
    "    plt.imshow(original)\n",
    "    #plt.show()"
   ]
  }
 ],
 "metadata": {
  "kernelspec": {
   "display_name": "Python 3",
   "language": "python",
   "name": "python3"
  },
  "language_info": {
   "codemirror_mode": {
    "name": "ipython",
    "version": 3
   },
   "file_extension": ".py",
   "mimetype": "text/x-python",
   "name": "python",
   "nbconvert_exporter": "python",
   "pygments_lexer": "ipython3",
   "version": "3.6.5"
  }
 },
 "nbformat": 4,
 "nbformat_minor": 2
}
